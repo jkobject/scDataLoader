{
 "cells": [
  {
   "cell_type": "code",
   "execution_count": null,
   "metadata": {},
   "outputs": [
    {
     "name": "stdout",
     "output_type": "stream",
     "text": [
      "💡 found cached instance metadata: /home/ml4ig1/.lamin/instance--jkobject--scprint.env\n",
      "💡 loaded instance: jkobject/scprint\n",
      "\u001b[0m"
     ]
    }
   ],
   "source": [
    "! lamin load scprint"
   ]
  },
  {
   "cell_type": "code",
   "execution_count": null,
   "metadata": {},
   "outputs": [
    {
     "name": "stderr",
     "output_type": "stream",
     "text": [
      "Global seed set to 42\n"
     ]
    },
    {
     "name": "stdout",
     "output_type": "stream",
     "text": [
      "💡 lamindb instance: jkobject/scprint\n"
     ]
    }
   ],
   "source": [
    "from scdataloader import DataModule\n",
    "\n",
    "import bionty as bt\n",
    "import lamindb as ln\n",
    "from scdataloader.utils import get_ancestry_mapping, load_genes\n",
    "\n",
    "%load_ext autoreload\n",
    "%autoreload 2"
   ]
  },
  {
   "cell_type": "code",
   "execution_count": null,
   "metadata": {},
   "outputs": [],
   "source": [
    "# TODO: drop tissue & dev stage until part or is taken in account\n",
    "\n",
    "hierarchical_labels = [\n",
    "    \"cell_type_ontology_term_id\", #1\n",
    "    # \"tissue_ontology_term_id\",\n",
    "    \"disease_ontology_term_id\", # 2\n",
    "#    \"development_stage_ontology_term_id\",\n",
    "    \"assay_ontology_term_id\", #3\n",
    "    'self_reported_ethnicity_ontology_term_id', #4\n",
    "]\n",
    "labels_to_pred = hierarchical_labels+[\n",
    "    'sex_ontology_term_id', #5\n",
    "    \"organism_ontology_term_id\", #6\n",
    "]\n",
    "all_labels = labels_to_pred+[\n",
    "    #'dataset_id',\n",
    "    'cell_culture',\n",
    "    \"heat_diff\",\n",
    "    \"total_counts\",\n",
    "    \"nnz\",\n",
    "    \"dpt_group\",\n",
    "]\n",
    "\n",
    "gene_emb = '../data/temp/embeddings.parquet'\n",
    "d_model=128"
   ]
  },
  {
   "cell_type": "code",
   "execution_count": null,
   "metadata": {},
   "outputs": [],
   "source": [
    "# we might want not to order the genes by expression (or do it?)\n",
    "# we might want to not introduce zeros and "
   ]
  },
  {
   "cell_type": "code",
   "execution_count": null,
   "metadata": {},
   "outputs": [
    {
     "ename": "TypeError",
     "evalue": "MappedDataset.__init__() got an unexpected keyword argument 'join_vars'",
     "output_type": "error",
     "traceback": [
      "\u001b[0;31m---------------------------------------------------------------------------\u001b[0m\n",
      "\u001b[0;31mTypeError\u001b[0m                                 Traceback (most recent call last)\n",
      "Cell \u001b[0;32mIn[3], line 1\u001b[0m\n",
      "\u001b[0;32m----> 1\u001b[0m datamodule \u001b[38;5;241m=\u001b[39m \u001b[43mDataModule\u001b[49m\u001b[43m(\u001b[49m\n",
      "\u001b[1;32m      2\u001b[0m \u001b[43m    \u001b[49m\u001b[43mcollection_name\u001b[49m\u001b[38;5;241;43m=\u001b[39;49m\u001b[38;5;124;43m\"\u001b[39;49m\u001b[38;5;124;43mpreprocessed dataset\u001b[39;49m\u001b[38;5;124;43m\"\u001b[39;49m\u001b[43m,\u001b[49m\n",
      "\u001b[1;32m      3\u001b[0m \u001b[43m    \u001b[49m\u001b[43mgene_embeddings\u001b[49m\u001b[38;5;241;43m=\u001b[39;49m\u001b[43mgene_emb\u001b[49m\u001b[43m,\u001b[49m\n",
      "\u001b[1;32m      4\u001b[0m \u001b[43m    \u001b[49m\u001b[43mall_labels\u001b[49m\u001b[38;5;241;43m=\u001b[39;49m\u001b[43mall_labels\u001b[49m\u001b[43m,\u001b[49m\n",
      "\u001b[1;32m      5\u001b[0m \u001b[43m    \u001b[49m\u001b[43mhierarchical_labels\u001b[49m\u001b[38;5;241;43m=\u001b[39;49m\u001b[43mhierarchical_labels\u001b[49m\u001b[43m,\u001b[49m\n",
      "\u001b[1;32m      6\u001b[0m \u001b[43m    \u001b[49m\u001b[43morganisms\u001b[49m\u001b[38;5;241;43m=\u001b[39;49m\u001b[43m[\u001b[49m\u001b[38;5;124;43m\"\u001b[39;49m\u001b[38;5;124;43mNCBITaxon:9606\u001b[39;49m\u001b[38;5;124;43m\"\u001b[39;49m\u001b[43m]\u001b[49m\u001b[43m,\u001b[49m\n",
      "\u001b[1;32m      7\u001b[0m \u001b[43m    \u001b[49m\u001b[43mhow\u001b[49m\u001b[38;5;241;43m=\u001b[39;49m\u001b[38;5;124;43m\"\u001b[39;49m\u001b[38;5;124;43mmost expr\u001b[39;49m\u001b[38;5;124;43m\"\u001b[39;49m\u001b[43m,\u001b[49m\n",
      "\u001b[1;32m      8\u001b[0m \u001b[43m    \u001b[49m\u001b[43mmax_len\u001b[49m\u001b[38;5;241;43m=\u001b[39;49m\u001b[38;5;241;43m1000\u001b[39;49m\u001b[43m,\u001b[49m\n",
      "\u001b[1;32m      9\u001b[0m \u001b[43m    \u001b[49m\u001b[43madd_zero_genes\u001b[49m\u001b[38;5;241;43m=\u001b[39;49m\u001b[38;5;241;43m100\u001b[39;49m\u001b[43m,\u001b[49m\n",
      "\u001b[1;32m     10\u001b[0m \u001b[43m    \u001b[49m\u001b[43mlabel_to_weight\u001b[49m\u001b[38;5;241;43m=\u001b[39;49m\u001b[43mlabels_to_pred\u001b[49m\u001b[43m,\u001b[49m\n",
      "\u001b[1;32m     11\u001b[0m \u001b[43m    \u001b[49m\u001b[43mlabel_to_pred\u001b[49m\u001b[38;5;241;43m=\u001b[39;49m\u001b[43mlabels_to_pred\u001b[49m\u001b[43m,\u001b[49m\n",
      "\u001b[1;32m     12\u001b[0m \u001b[43m    \u001b[49m\u001b[43mbatch_size\u001b[49m\u001b[38;5;241;43m=\u001b[39;49m\u001b[38;5;241;43m64\u001b[39;49m\u001b[43m,\u001b[49m\n",
      "\u001b[1;32m     13\u001b[0m \u001b[43m    \u001b[49m\u001b[43mnum_workers\u001b[49m\u001b[38;5;241;43m=\u001b[39;49m\u001b[38;5;241;43m16\u001b[39;49m\u001b[43m,\u001b[49m\n",
      "\u001b[1;32m     14\u001b[0m \u001b[43m    \u001b[49m\u001b[43mvalidation_split\u001b[49m\u001b[38;5;241;43m=\u001b[39;49m\u001b[38;5;241;43m0.1\u001b[39;49m\u001b[43m,\u001b[49m\n",
      "\u001b[1;32m     15\u001b[0m \u001b[43m    \u001b[49m\u001b[43mtest_split\u001b[49m\u001b[38;5;241;43m=\u001b[39;49m\u001b[38;5;241;43m0.1\u001b[39;49m\u001b[43m)\u001b[49m\n",
      "\u001b[1;32m     16\u001b[0m testfiles \u001b[38;5;241m=\u001b[39m datamodule\u001b[38;5;241m.\u001b[39msetup()\n",
      "\n",
      "File \u001b[0;32m~/Documents code/scDataLoader/scdataloader/dataloader.py:134\u001b[0m, in \u001b[0;36mDataModule.__init__\u001b[0;34m(self, mdataset, collection_name, organisms, weight_scaler, train_oversampling, label_to_weight, label_to_pred, validation_split, test_split, use_default_col, all_labels, hierarchical_labels, how, organism_name, max_len, add_zero_genes, do_gene_pos, gene_embeddings, gene_position_tolerance, **kwargs)\u001b[0m\n",
      "\u001b[1;32m    122\u001b[0m \u001b[38;5;250m\u001b[39m\u001b[38;5;124;03m\"\"\"\u001b[39;00m\n",
      "\u001b[1;32m    123\u001b[0m \u001b[38;5;124;03mInitializes the DataModule.\u001b[39;00m\n",
      "\u001b[1;32m    124\u001b[0m \n",
      "\u001b[0;32m   (...)\u001b[0m\n",
      "\u001b[1;32m    131\u001b[0m \u001b[38;5;124;03m    **kwargs: Additional keyword arguments passed to the pytorch DataLoader.\u001b[39;00m\n",
      "\u001b[1;32m    132\u001b[0m \u001b[38;5;124;03m\"\"\"\u001b[39;00m\n",
      "\u001b[1;32m    133\u001b[0m \u001b[38;5;28;01mif\u001b[39;00m collection_name \u001b[38;5;129;01mis\u001b[39;00m \u001b[38;5;129;01mnot\u001b[39;00m \u001b[38;5;28;01mNone\u001b[39;00m:\n",
      "\u001b[0;32m--> 134\u001b[0m     mdataset \u001b[38;5;241m=\u001b[39m \u001b[43mDataset\u001b[49m\u001b[43m(\u001b[49m\n",
      "\u001b[1;32m    135\u001b[0m \u001b[43m        \u001b[49m\u001b[43mln\u001b[49m\u001b[38;5;241;43m.\u001b[39;49m\u001b[43mCollection\u001b[49m\u001b[38;5;241;43m.\u001b[39;49m\u001b[43mfilter\u001b[49m\u001b[43m(\u001b[49m\u001b[43mname\u001b[49m\u001b[38;5;241;43m=\u001b[39;49m\u001b[43mcollection_name\u001b[49m\u001b[43m)\u001b[49m\u001b[38;5;241;43m.\u001b[39;49m\u001b[43mfirst\u001b[49m\u001b[43m(\u001b[49m\u001b[43m)\u001b[49m\u001b[43m,\u001b[49m\n",
      "\u001b[1;32m    136\u001b[0m \u001b[43m        \u001b[49m\u001b[43morganisms\u001b[49m\u001b[38;5;241;43m=\u001b[39;49m\u001b[43morganisms\u001b[49m\u001b[43m,\u001b[49m\n",
      "\u001b[1;32m    137\u001b[0m \u001b[43m        \u001b[49m\u001b[43mobs\u001b[49m\u001b[38;5;241;43m=\u001b[39;49m\u001b[43mall_labels\u001b[49m\u001b[43m,\u001b[49m\n",
      "\u001b[1;32m    138\u001b[0m \u001b[43m        \u001b[49m\u001b[43mclss_to_pred\u001b[49m\u001b[38;5;241;43m=\u001b[39;49m\u001b[43mlabel_to_pred\u001b[49m\u001b[43m,\u001b[49m\n",
      "\u001b[1;32m    139\u001b[0m \u001b[43m        \u001b[49m\u001b[43mhierarchical_clss\u001b[49m\u001b[38;5;241;43m=\u001b[39;49m\u001b[43mhierarchical_labels\u001b[49m\u001b[43m,\u001b[49m\n",
      "\u001b[1;32m    140\u001b[0m \u001b[43m    \u001b[49m\u001b[43m)\u001b[49m\n",
      "\u001b[1;32m    141\u001b[0m     \u001b[38;5;28mprint\u001b[39m(mdataset)\n",
      "\u001b[1;32m    142\u001b[0m \u001b[38;5;66;03m# and location\u001b[39;00m\n",
      "\n",
      "File \u001b[0;32m<string>:10\u001b[0m, in \u001b[0;36m__init__\u001b[0;34m(self, lamin_dataset, genedf, organisms, obs, clss_to_pred, hierarchical_clss, join_vars)\u001b[0m\n",
      "\n",
      "File \u001b[0;32m~/Documents code/scDataLoader/scdataloader/data.py:103\u001b[0m, in \u001b[0;36mDataset.__post_init__\u001b[0;34m(self)\u001b[0m\n",
      "\u001b[1;32m    102\u001b[0m \u001b[38;5;28;01mdef\u001b[39;00m \u001b[38;5;21m__post_init__\u001b[39m(\u001b[38;5;28mself\u001b[39m):\n",
      "\u001b[0;32m--> 103\u001b[0m     \u001b[38;5;28mself\u001b[39m\u001b[38;5;241m.\u001b[39mmapped_dataset \u001b[38;5;241m=\u001b[39m \u001b[43mmapped\u001b[49m\u001b[38;5;241;43m.\u001b[39;49m\u001b[43mmapped\u001b[49m\u001b[43m(\u001b[49m\n",
      "\u001b[1;32m    104\u001b[0m \u001b[43m        \u001b[49m\u001b[38;5;28;43mself\u001b[39;49m\u001b[38;5;241;43m.\u001b[39;49m\u001b[43mlamin_dataset\u001b[49m\u001b[43m,\u001b[49m\n",
      "\u001b[1;32m    105\u001b[0m \u001b[43m        \u001b[49m\u001b[43mlabel_keys\u001b[49m\u001b[38;5;241;43m=\u001b[39;49m\u001b[38;5;28;43mself\u001b[39;49m\u001b[38;5;241;43m.\u001b[39;49m\u001b[43mobs\u001b[49m\u001b[43m,\u001b[49m\n",
      "\u001b[1;32m    106\u001b[0m \u001b[43m        \u001b[49m\u001b[43mencode_labels\u001b[49m\u001b[38;5;241;43m=\u001b[39;49m\u001b[38;5;28;43mself\u001b[39;49m\u001b[38;5;241;43m.\u001b[39;49m\u001b[43mclss_to_pred\u001b[49m\u001b[43m,\u001b[49m\n",
      "\u001b[1;32m    107\u001b[0m \u001b[43m        \u001b[49m\u001b[43mstream\u001b[49m\u001b[38;5;241;43m=\u001b[39;49m\u001b[38;5;28;43;01mTrue\u001b[39;49;00m\u001b[43m,\u001b[49m\n",
      "\u001b[1;32m    108\u001b[0m \u001b[43m        \u001b[49m\u001b[43mparallel\u001b[49m\u001b[38;5;241;43m=\u001b[39;49m\u001b[38;5;28;43;01mTrue\u001b[39;49;00m\u001b[43m,\u001b[49m\n",
      "\u001b[1;32m    109\u001b[0m \u001b[43m        \u001b[49m\u001b[43mjoin_vars\u001b[49m\u001b[38;5;241;43m=\u001b[39;49m\u001b[38;5;28;43mself\u001b[39;49m\u001b[38;5;241;43m.\u001b[39;49m\u001b[43mjoin_vars\u001b[49m\u001b[43m,\u001b[49m\n",
      "\u001b[1;32m    110\u001b[0m \u001b[43m    \u001b[49m\u001b[43m)\u001b[49m\n",
      "\u001b[1;32m    111\u001b[0m     \u001b[38;5;28mprint\u001b[39m(\n",
      "\u001b[1;32m    112\u001b[0m         \u001b[38;5;124m\"\u001b[39m\u001b[38;5;124mwon\u001b[39m\u001b[38;5;124m'\u001b[39m\u001b[38;5;124mt do any check but we recommend to have your dataset coming from local storage\u001b[39m\u001b[38;5;124m\"\u001b[39m\n",
      "\u001b[1;32m    113\u001b[0m     )\n",
      "\u001b[1;32m    114\u001b[0m     \u001b[38;5;66;03m# generate tree from ontologies\u001b[39;00m\n",
      "\n",
      "File \u001b[0;32m~/Documents code/scDataLoader/scdataloader/mapped.py:60\u001b[0m, in \u001b[0;36mmapped\u001b[0;34m(dataset, stream, is_run_input, **kwargs)\u001b[0m\n",
      "\u001b[1;32m     58\u001b[0m     \u001b[38;5;28;01melse\u001b[39;00m:\n",
      "\u001b[1;32m     59\u001b[0m         path_list\u001b[38;5;241m.\u001b[39mappend(file\u001b[38;5;241m.\u001b[39mpath)\n",
      "\u001b[0;32m---> 60\u001b[0m \u001b[38;5;28;01mreturn\u001b[39;00m \u001b[43mMappedDataset\u001b[49m\u001b[43m(\u001b[49m\u001b[43mpath_list\u001b[49m\u001b[43m,\u001b[49m\u001b[43m \u001b[49m\u001b[38;5;241;43m*\u001b[39;49m\u001b[38;5;241;43m*\u001b[39;49m\u001b[43mkwargs\u001b[49m\u001b[43m)\u001b[49m\n",
      "\n",
      "\u001b[0;31mTypeError\u001b[0m: MappedDataset.__init__() got an unexpected keyword argument 'join_vars'"
     ]
    }
   ],
   "source": [
    "datamodule = DataModule(\n",
    "    collection_name=\"preprocessed dataset\",\n",
    "    gene_embeddings=gene_emb,\n",
    "    all_labels=all_labels,\n",
    "    hierarchical_labels=hierarchical_labels,\n",
    "    organisms=[\"NCBITaxon:9606\"],\n",
    "    how=\"most expr\",\n",
    "    max_len=1000,\n",
    "    add_zero_genes=100,\n",
    "    label_to_weight=labels_to_pred,\n",
    "    label_to_pred=labels_to_pred,\n",
    "    batch_size=64,\n",
    "    num_workers=16,\n",
    "    validation_split=0.1,\n",
    "    test_split=0.1)\n",
    "testfiles = datamodule.setup()"
   ]
  },
  {
   "cell_type": "code",
   "execution_count": null,
   "metadata": {},
   "outputs": [],
   "source": [
    "df = bt.Tissue.filter().df()"
   ]
  },
  {
   "cell_type": "code",
   "execution_count": null,
   "metadata": {},
   "outputs": [],
   "source": [
    "parentdf = bt.Tissue.filter().df(include=[\"parents__ontology_id\"]).set_index(\"ontology_id\")"
   ]
  },
  {
   "cell_type": "code",
   "execution_count": null,
   "metadata": {},
   "outputs": [
    {
     "data": {
      "text/plain": [
       "ontology_id\n",
       "UBERON:8440012    [UBERON:0009663]\n",
       "Name: parents__ontology_id, dtype: object"
      ]
     },
     "metadata": {},
     "output_type": "display_data"
    }
   ],
   "source": [
    "ids"
   ]
  },
  {
   "cell_type": "code",
   "execution_count": null,
   "metadata": {},
   "outputs": [
    {
     "data": {
      "image/svg+xml": [
       "<?xml version=\"1.0\" encoding=\"UTF-8\" standalone=\"no\"?>\n",
       "<!DOCTYPE svg PUBLIC \"-//W3C//DTD SVG 1.1//EN\"\n",
       " \"http://www.w3.org/Graphics/SVG/1.1/DTD/svg11.dtd\">\n",
       "<!-- Generated by graphviz version 2.43.0 (0)\n",
       " -->\n",
       "<!-- Title: 1gADIfWO Pages: 1 -->\n",
       "<svg width=\"308pt\" height=\"404pt\"\n",
       " viewBox=\"0.00 0.00 307.50 404.00\" xmlns=\"http://www.w3.org/2000/svg\" xmlns:xlink=\"http://www.w3.org/1999/xlink\">\n",
       "<g id=\"graph0\" class=\"graph\" transform=\"scale(1 1) rotate(0) translate(4 400)\">\n",
       "<title>1gADIfWO</title>\n",
       "<polygon fill=\"white\" stroke=\"transparent\" points=\"-4,4 -4,-400 303.5,-400 303.5,4 -4,4\"/>\n",
       "<!-- 1gADIfWO -->\n",
       "<g id=\"node1\" class=\"node\">\n",
       "<title>1gADIfWO</title>\n",
       "<path fill=\"#10b981\" stroke=\"#065f46\" d=\"M189.5,-36C189.5,-36 118.5,-36 118.5,-36 112.5,-36 106.5,-30 106.5,-24 106.5,-24 106.5,-12 106.5,-12 106.5,-6 112.5,0 118.5,0 118.5,0 189.5,0 189.5,0 195.5,0 201.5,-6 201.5,-12 201.5,-12 201.5,-24 201.5,-24 201.5,-30 195.5,-36 189.5,-36\"/>\n",
       "<text text-anchor=\"start\" x=\"114.5\" y=\"-21\" font-family=\"Helvetica,sans-Serif\" font-size=\"10.00\">nucleus of brain</text>\n",
       "<text text-anchor=\"start\" x=\"117.5\" y=\"-11\" font-family=\"Monospace\" font-size=\"10.00\" fill=\"GREY\">uid=1gADIfWO</text>\n",
       "</g>\n",
       "<!-- N039zety -->\n",
       "<g id=\"node2\" class=\"node\">\n",
       "<title>N039zety</title>\n",
       "<path fill=\"honeydew\" stroke=\"#065f46\" d=\"M215.5,-396C215.5,-396 92.5,-396 92.5,-396 86.5,-396 80.5,-390 80.5,-384 80.5,-384 80.5,-372 80.5,-372 80.5,-366 86.5,-360 92.5,-360 92.5,-360 215.5,-360 215.5,-360 221.5,-360 227.5,-366 227.5,-372 227.5,-372 227.5,-384 227.5,-384 227.5,-390 221.5,-396 215.5,-396\"/>\n",
       "<text text-anchor=\"start\" x=\"88.5\" y=\"-381\" font-family=\"Helvetica,sans-Serif\" font-size=\"10.00\">material anatomical entity</text>\n",
       "<text text-anchor=\"start\" x=\"117.5\" y=\"-371\" font-family=\"Monospace\" font-size=\"10.00\" fill=\"GREY\">uid=N039zety</text>\n",
       "</g>\n",
       "<!-- 5SGM2iq3 -->\n",
       "<g id=\"node3\" class=\"node\">\n",
       "<title>5SGM2iq3</title>\n",
       "<path fill=\"honeydew\" stroke=\"#065f46\" d=\"M201,-324C201,-324 107,-324 107,-324 101,-324 95,-318 95,-312 95,-312 95,-300 95,-300 95,-294 101,-288 107,-288 107,-288 201,-288 201,-288 207,-288 213,-294 213,-300 213,-300 213,-312 213,-312 213,-318 207,-324 201,-324\"/>\n",
       "<text text-anchor=\"start\" x=\"103\" y=\"-309\" font-family=\"Helvetica,sans-Serif\" font-size=\"10.00\">anatomical structure</text>\n",
       "<text text-anchor=\"start\" x=\"117.5\" y=\"-299\" font-family=\"Monospace\" font-size=\"10.00\" fill=\"GREY\">uid=5SGM2iq3</text>\n",
       "</g>\n",
       "<!-- N039zety&#45;&gt;5SGM2iq3 -->\n",
       "<g id=\"edge1\" class=\"edge\">\n",
       "<title>N039zety&#45;&gt;5SGM2iq3</title>\n",
       "<path fill=\"none\" stroke=\"dimgrey\" d=\"M154,-359.7C154,-350.46 154,-338.98 154,-329.11\"/>\n",
       "<polygon fill=\"dimgrey\" stroke=\"dimgrey\" points=\"155.75,-329.1 154,-324.1 152.25,-329.1 155.75,-329.1\"/>\n",
       "</g>\n",
       "<!-- 50gBhL6a -->\n",
       "<g id=\"node4\" class=\"node\">\n",
       "<title>50gBhL6a</title>\n",
       "<path fill=\"honeydew\" stroke=\"#065f46\" d=\"M138,-252C138,-252 12,-252 12,-252 6,-252 0,-246 0,-240 0,-240 0,-228 0,-228 0,-222 6,-216 12,-216 12,-216 138,-216 138,-216 144,-216 150,-222 150,-228 150,-228 150,-240 150,-240 150,-246 144,-252 138,-252\"/>\n",
       "<text text-anchor=\"start\" x=\"8\" y=\"-237\" font-family=\"Helvetica,sans-Serif\" font-size=\"10.00\">ectoderm&#45;derived structure</text>\n",
       "<text text-anchor=\"start\" x=\"38.5\" y=\"-227\" font-family=\"Monospace\" font-size=\"10.00\" fill=\"GREY\">uid=50gBhL6a</text>\n",
       "</g>\n",
       "<!-- 5SGM2iq3&#45;&gt;50gBhL6a -->\n",
       "<g id=\"edge2\" class=\"edge\">\n",
       "<title>5SGM2iq3&#45;&gt;50gBhL6a</title>\n",
       "<path fill=\"none\" stroke=\"dimgrey\" d=\"M134.47,-287.7C123.47,-277.95 109.66,-265.71 98.12,-255.49\"/>\n",
       "<polygon fill=\"dimgrey\" stroke=\"dimgrey\" points=\"99.21,-254.11 94.3,-252.1 96.89,-256.73 99.21,-254.11\"/>\n",
       "</g>\n",
       "<!-- ne6q08Q3 -->\n",
       "<g id=\"node6\" class=\"node\">\n",
       "<title>ne6q08Q3</title>\n",
       "<path fill=\"honeydew\" stroke=\"#065f46\" d=\"M287.5,-252C287.5,-252 180.5,-252 180.5,-252 174.5,-252 168.5,-246 168.5,-240 168.5,-240 168.5,-228 168.5,-228 168.5,-222 174.5,-216 180.5,-216 180.5,-216 287.5,-216 287.5,-216 293.5,-216 299.5,-222 299.5,-228 299.5,-228 299.5,-240 299.5,-240 299.5,-246 293.5,-252 287.5,-252\"/>\n",
       "<text text-anchor=\"start\" x=\"176.5\" y=\"-237\" font-family=\"Helvetica,sans-Serif\" font-size=\"10.00\">multi cell part structure</text>\n",
       "<text text-anchor=\"start\" x=\"197.5\" y=\"-227\" font-family=\"Monospace\" font-size=\"10.00\" fill=\"GREY\">uid=ne6q08Q3</text>\n",
       "</g>\n",
       "<!-- 5SGM2iq3&#45;&gt;ne6q08Q3 -->\n",
       "<g id=\"edge5\" class=\"edge\">\n",
       "<title>5SGM2iq3&#45;&gt;ne6q08Q3</title>\n",
       "<path fill=\"none\" stroke=\"dimgrey\" d=\"M173.78,-287.7C184.92,-277.95 198.9,-265.71 210.58,-255.49\"/>\n",
       "<polygon fill=\"dimgrey\" stroke=\"dimgrey\" points=\"211.84,-256.71 214.45,-252.1 209.54,-254.08 211.84,-256.71\"/>\n",
       "</g>\n",
       "<!-- 1ESlpjg3 -->\n",
       "<g id=\"node5\" class=\"node\">\n",
       "<title>1ESlpjg3</title>\n",
       "<path fill=\"honeydew\" stroke=\"#065f46\" d=\"M247,-180C247,-180 61,-180 61,-180 55,-180 49,-174 49,-168 49,-168 49,-156 49,-156 49,-150 55,-144 61,-144 61,-144 247,-144 247,-144 253,-144 259,-150 259,-156 259,-156 259,-168 259,-168 259,-174 253,-180 247,-180\"/>\n",
       "<text text-anchor=\"start\" x=\"57\" y=\"-165\" font-family=\"Helvetica,sans-Serif\" font-size=\"10.00\">central nervous system cell part cluster</text>\n",
       "<text text-anchor=\"start\" x=\"117.5\" y=\"-155\" font-family=\"Monospace\" font-size=\"10.00\" fill=\"GREY\">uid=1ESlpjg3</text>\n",
       "</g>\n",
       "<!-- 50gBhL6a&#45;&gt;1ESlpjg3 -->\n",
       "<g id=\"edge3\" class=\"edge\">\n",
       "<title>50gBhL6a&#45;&gt;1ESlpjg3</title>\n",
       "<path fill=\"none\" stroke=\"dimgrey\" d=\"M94.53,-215.7C105.53,-205.95 119.34,-193.71 130.88,-183.49\"/>\n",
       "<polygon fill=\"dimgrey\" stroke=\"dimgrey\" points=\"132.11,-184.73 134.7,-180.1 129.79,-182.11 132.11,-184.73\"/>\n",
       "</g>\n",
       "<!-- 1ZO9pmP9 -->\n",
       "<g id=\"node7\" class=\"node\">\n",
       "<title>1ZO9pmP9</title>\n",
       "<path fill=\"honeydew\" stroke=\"#065f46\" d=\"M186.5,-108C186.5,-108 121.5,-108 121.5,-108 115.5,-108 109.5,-102 109.5,-96 109.5,-96 109.5,-84 109.5,-84 109.5,-78 115.5,-72 121.5,-72 121.5,-72 186.5,-72 186.5,-72 192.5,-72 198.5,-78 198.5,-84 198.5,-84 198.5,-96 198.5,-96 198.5,-102 192.5,-108 186.5,-108\"/>\n",
       "<text text-anchor=\"start\" x=\"118\" y=\"-93\" font-family=\"Helvetica,sans-Serif\" font-size=\"10.00\">neural nucleus</text>\n",
       "<text text-anchor=\"start\" x=\"117.5\" y=\"-83\" font-family=\"Monospace\" font-size=\"10.00\" fill=\"GREY\">uid=1ZO9pmP9</text>\n",
       "</g>\n",
       "<!-- 1ESlpjg3&#45;&gt;1ZO9pmP9 -->\n",
       "<g id=\"edge7\" class=\"edge\">\n",
       "<title>1ESlpjg3&#45;&gt;1ZO9pmP9</title>\n",
       "<path fill=\"none\" stroke=\"dimgrey\" d=\"M154,-143.7C154,-134.46 154,-122.98 154,-113.11\"/>\n",
       "<polygon fill=\"dimgrey\" stroke=\"dimgrey\" points=\"155.75,-113.1 154,-108.1 152.25,-113.1 155.75,-113.1\"/>\n",
       "</g>\n",
       "<!-- ne6q08Q3&#45;&gt;1ESlpjg3 -->\n",
       "<g id=\"edge4\" class=\"edge\">\n",
       "<title>ne6q08Q3&#45;&gt;1ESlpjg3</title>\n",
       "<path fill=\"none\" stroke=\"dimgrey\" d=\"M214.22,-215.7C203.08,-205.95 189.1,-193.71 177.42,-183.49\"/>\n",
       "<polygon fill=\"dimgrey\" stroke=\"dimgrey\" points=\"178.46,-182.08 173.55,-180.1 176.16,-184.71 178.46,-182.08\"/>\n",
       "</g>\n",
       "<!-- 1ZO9pmP9&#45;&gt;1gADIfWO -->\n",
       "<g id=\"edge6\" class=\"edge\">\n",
       "<title>1ZO9pmP9&#45;&gt;1gADIfWO</title>\n",
       "<path fill=\"none\" stroke=\"dimgrey\" d=\"M154,-71.7C154,-62.46 154,-50.98 154,-41.11\"/>\n",
       "<polygon fill=\"dimgrey\" stroke=\"dimgrey\" points=\"155.75,-41.1 154,-36.1 152.25,-41.1 155.75,-41.1\"/>\n",
       "</g>\n",
       "</g>\n",
       "</svg>\n"
      ],
      "text/plain": [
       "<graphviz.graphs.Digraph at 0x7f31e4b31600>"
      ]
     },
     "metadata": {},
     "output_type": "display_data"
    }
   ],
   "source": [
    "bt.Tissue.search(\"nucleus of brain\", field=\"name\",return_queryset=True).first().view_parents()"
   ]
  },
  {
   "cell_type": "code",
   "execution_count": null,
   "metadata": {},
   "outputs": [
    {
     "data": {
      "text/plain": [
       "PublicOntology\n",
       "Entity: Tissue\n",
       "Organism: all\n",
       "Source: uberon, 2023-09-05\n",
       "#terms: 15539\n",
       "\n",
       "📖 .df(): ontology reference table\n",
       "🔎 .lookup(): autocompletion of terms\n",
       "🎯 .search(): free text search of terms\n",
       "✅ .validate(): strictly validate values\n",
       "🧐 .inspect(): full inspection of values\n",
       "👽 .standardize(): convert to standardized names\n",
       "🪜 .diff(): difference between two versions\n",
       "🔗 .to_pronto(): Pronto.Ontology object"
      ]
     },
     "metadata": {},
     "output_type": "display_data"
    }
   ],
   "source": [
    "bt.Tissue.public()."
   ]
  },
  {
   "cell_type": "code",
   "execution_count": null,
   "metadata": {},
   "outputs": [
    {
     "name": "stdout",
     "output_type": "stream",
     "text": [
      "cerebral nuclei\n"
     ]
    },
    {
     "ename": "KeyError",
     "evalue": "\"None of [Index(['UBERON:0009663'], dtype='object', name='id')] are in the [index]\"",
     "output_type": "error",
     "traceback": [
      "\u001b[0;31m---------------------------------------------------------------------------\u001b[0m\n",
      "\u001b[0;31mKeyError\u001b[0m                                  Traceback (most recent call last)\n",
      "Cell \u001b[0;32mIn[43], line 6\u001b[0m\n",
      "\u001b[1;32m      4\u001b[0m \u001b[38;5;28mprint\u001b[39m(name)\n",
      "\u001b[1;32m      5\u001b[0m ids \u001b[38;5;241m=\u001b[39m parentdf[parentdf\u001b[38;5;241m.\u001b[39mname\u001b[38;5;241m==\u001b[39mname]\u001b[38;5;241m.\u001b[39mparents__ontology_id\n",
      "\u001b[0;32m----> 6\u001b[0m name \u001b[38;5;241m=\u001b[39m [df\u001b[38;5;241m.\u001b[39mloc[d]\u001b[38;5;241m.\u001b[39mname \u001b[38;5;28;01mfor\u001b[39;00m d \u001b[38;5;129;01min\u001b[39;00m ids]\n",
      "\n",
      "Cell \u001b[0;32mIn[43], line 6\u001b[0m, in \u001b[0;36m<listcomp>\u001b[0;34m(.0)\u001b[0m\n",
      "\u001b[1;32m      4\u001b[0m \u001b[38;5;28mprint\u001b[39m(name)\n",
      "\u001b[1;32m      5\u001b[0m ids \u001b[38;5;241m=\u001b[39m parentdf[parentdf\u001b[38;5;241m.\u001b[39mname\u001b[38;5;241m==\u001b[39mname]\u001b[38;5;241m.\u001b[39mparents__ontology_id\n",
      "\u001b[0;32m----> 6\u001b[0m name \u001b[38;5;241m=\u001b[39m [\u001b[43mdf\u001b[49m\u001b[38;5;241;43m.\u001b[39;49m\u001b[43mloc\u001b[49m\u001b[43m[\u001b[49m\u001b[43md\u001b[49m\u001b[43m]\u001b[49m\u001b[38;5;241m.\u001b[39mname \u001b[38;5;28;01mfor\u001b[39;00m d \u001b[38;5;129;01min\u001b[39;00m ids]\n",
      "\n",
      "File \u001b[0;32m~/miniconda3/envs/scprint/lib/python3.10/site-packages/pandas/core/indexing.py:1073\u001b[0m, in \u001b[0;36m_LocationIndexer.__getitem__\u001b[0;34m(self, key)\u001b[0m\n",
      "\u001b[1;32m   1070\u001b[0m axis \u001b[38;5;241m=\u001b[39m \u001b[38;5;28mself\u001b[39m\u001b[38;5;241m.\u001b[39maxis \u001b[38;5;129;01mor\u001b[39;00m \u001b[38;5;241m0\u001b[39m\n",
      "\u001b[1;32m   1072\u001b[0m maybe_callable \u001b[38;5;241m=\u001b[39m com\u001b[38;5;241m.\u001b[39mapply_if_callable(key, \u001b[38;5;28mself\u001b[39m\u001b[38;5;241m.\u001b[39mobj)\n",
      "\u001b[0;32m-> 1073\u001b[0m \u001b[38;5;28;01mreturn\u001b[39;00m \u001b[38;5;28;43mself\u001b[39;49m\u001b[38;5;241;43m.\u001b[39;49m\u001b[43m_getitem_axis\u001b[49m\u001b[43m(\u001b[49m\u001b[43mmaybe_callable\u001b[49m\u001b[43m,\u001b[49m\u001b[43m \u001b[49m\u001b[43maxis\u001b[49m\u001b[38;5;241;43m=\u001b[39;49m\u001b[43maxis\u001b[49m\u001b[43m)\u001b[49m\n",
      "\n",
      "File \u001b[0;32m~/miniconda3/envs/scprint/lib/python3.10/site-packages/pandas/core/indexing.py:1301\u001b[0m, in \u001b[0;36m_LocIndexer._getitem_axis\u001b[0;34m(self, key, axis)\u001b[0m\n",
      "\u001b[1;32m   1298\u001b[0m     \u001b[38;5;28;01mif\u001b[39;00m \u001b[38;5;28mhasattr\u001b[39m(key, \u001b[38;5;124m\"\u001b[39m\u001b[38;5;124mndim\u001b[39m\u001b[38;5;124m\"\u001b[39m) \u001b[38;5;129;01mand\u001b[39;00m key\u001b[38;5;241m.\u001b[39mndim \u001b[38;5;241m>\u001b[39m \u001b[38;5;241m1\u001b[39m:\n",
      "\u001b[1;32m   1299\u001b[0m         \u001b[38;5;28;01mraise\u001b[39;00m \u001b[38;5;167;01mValueError\u001b[39;00m(\u001b[38;5;124m\"\u001b[39m\u001b[38;5;124mCannot index with multidimensional key\u001b[39m\u001b[38;5;124m\"\u001b[39m)\n",
      "\u001b[0;32m-> 1301\u001b[0m     \u001b[38;5;28;01mreturn\u001b[39;00m \u001b[38;5;28;43mself\u001b[39;49m\u001b[38;5;241;43m.\u001b[39;49m\u001b[43m_getitem_iterable\u001b[49m\u001b[43m(\u001b[49m\u001b[43mkey\u001b[49m\u001b[43m,\u001b[49m\u001b[43m \u001b[49m\u001b[43maxis\u001b[49m\u001b[38;5;241;43m=\u001b[39;49m\u001b[43maxis\u001b[49m\u001b[43m)\u001b[49m\n",
      "\u001b[1;32m   1303\u001b[0m \u001b[38;5;66;03m# nested tuple slicing\u001b[39;00m\n",
      "\u001b[1;32m   1304\u001b[0m \u001b[38;5;28;01mif\u001b[39;00m is_nested_tuple(key, labels):\n",
      "\n",
      "File \u001b[0;32m~/miniconda3/envs/scprint/lib/python3.10/site-packages/pandas/core/indexing.py:1239\u001b[0m, in \u001b[0;36m_LocIndexer._getitem_iterable\u001b[0;34m(self, key, axis)\u001b[0m\n",
      "\u001b[1;32m   1236\u001b[0m \u001b[38;5;28mself\u001b[39m\u001b[38;5;241m.\u001b[39m_validate_key(key, axis)\n",
      "\u001b[1;32m   1238\u001b[0m \u001b[38;5;66;03m# A collection of keys\u001b[39;00m\n",
      "\u001b[0;32m-> 1239\u001b[0m keyarr, indexer \u001b[38;5;241m=\u001b[39m \u001b[38;5;28;43mself\u001b[39;49m\u001b[38;5;241;43m.\u001b[39;49m\u001b[43m_get_listlike_indexer\u001b[49m\u001b[43m(\u001b[49m\u001b[43mkey\u001b[49m\u001b[43m,\u001b[49m\u001b[43m \u001b[49m\u001b[43maxis\u001b[49m\u001b[43m)\u001b[49m\n",
      "\u001b[1;32m   1240\u001b[0m \u001b[38;5;28;01mreturn\u001b[39;00m \u001b[38;5;28mself\u001b[39m\u001b[38;5;241m.\u001b[39mobj\u001b[38;5;241m.\u001b[39m_reindex_with_indexers(\n",
      "\u001b[1;32m   1241\u001b[0m     {axis: [keyarr, indexer]}, copy\u001b[38;5;241m=\u001b[39m\u001b[38;5;28;01mTrue\u001b[39;00m, allow_dups\u001b[38;5;241m=\u001b[39m\u001b[38;5;28;01mTrue\u001b[39;00m\n",
      "\u001b[1;32m   1242\u001b[0m )\n",
      "\n",
      "File \u001b[0;32m~/miniconda3/envs/scprint/lib/python3.10/site-packages/pandas/core/indexing.py:1432\u001b[0m, in \u001b[0;36m_LocIndexer._get_listlike_indexer\u001b[0;34m(self, key, axis)\u001b[0m\n",
      "\u001b[1;32m   1429\u001b[0m ax \u001b[38;5;241m=\u001b[39m \u001b[38;5;28mself\u001b[39m\u001b[38;5;241m.\u001b[39mobj\u001b[38;5;241m.\u001b[39m_get_axis(axis)\n",
      "\u001b[1;32m   1430\u001b[0m axis_name \u001b[38;5;241m=\u001b[39m \u001b[38;5;28mself\u001b[39m\u001b[38;5;241m.\u001b[39mobj\u001b[38;5;241m.\u001b[39m_get_axis_name(axis)\n",
      "\u001b[0;32m-> 1432\u001b[0m keyarr, indexer \u001b[38;5;241m=\u001b[39m \u001b[43max\u001b[49m\u001b[38;5;241;43m.\u001b[39;49m\u001b[43m_get_indexer_strict\u001b[49m\u001b[43m(\u001b[49m\u001b[43mkey\u001b[49m\u001b[43m,\u001b[49m\u001b[43m \u001b[49m\u001b[43maxis_name\u001b[49m\u001b[43m)\u001b[49m\n",
      "\u001b[1;32m   1434\u001b[0m \u001b[38;5;28;01mreturn\u001b[39;00m keyarr, indexer\n",
      "\n",
      "File \u001b[0;32m~/miniconda3/envs/scprint/lib/python3.10/site-packages/pandas/core/indexes/base.py:6070\u001b[0m, in \u001b[0;36mIndex._get_indexer_strict\u001b[0;34m(self, key, axis_name)\u001b[0m\n",
      "\u001b[1;32m   6067\u001b[0m \u001b[38;5;28;01melse\u001b[39;00m:\n",
      "\u001b[1;32m   6068\u001b[0m     keyarr, indexer, new_indexer \u001b[38;5;241m=\u001b[39m \u001b[38;5;28mself\u001b[39m\u001b[38;5;241m.\u001b[39m_reindex_non_unique(keyarr)\n",
      "\u001b[0;32m-> 6070\u001b[0m \u001b[38;5;28;43mself\u001b[39;49m\u001b[38;5;241;43m.\u001b[39;49m\u001b[43m_raise_if_missing\u001b[49m\u001b[43m(\u001b[49m\u001b[43mkeyarr\u001b[49m\u001b[43m,\u001b[49m\u001b[43m \u001b[49m\u001b[43mindexer\u001b[49m\u001b[43m,\u001b[49m\u001b[43m \u001b[49m\u001b[43maxis_name\u001b[49m\u001b[43m)\u001b[49m\n",
      "\u001b[1;32m   6072\u001b[0m keyarr \u001b[38;5;241m=\u001b[39m \u001b[38;5;28mself\u001b[39m\u001b[38;5;241m.\u001b[39mtake(indexer)\n",
      "\u001b[1;32m   6073\u001b[0m \u001b[38;5;28;01mif\u001b[39;00m \u001b[38;5;28misinstance\u001b[39m(key, Index):\n",
      "\u001b[1;32m   6074\u001b[0m     \u001b[38;5;66;03m# GH 42790 - Preserve name from an Index\u001b[39;00m\n",
      "\n",
      "File \u001b[0;32m~/miniconda3/envs/scprint/lib/python3.10/site-packages/pandas/core/indexes/base.py:6130\u001b[0m, in \u001b[0;36mIndex._raise_if_missing\u001b[0;34m(self, key, indexer, axis_name)\u001b[0m\n",
      "\u001b[1;32m   6128\u001b[0m     \u001b[38;5;28;01mif\u001b[39;00m use_interval_msg:\n",
      "\u001b[1;32m   6129\u001b[0m         key \u001b[38;5;241m=\u001b[39m \u001b[38;5;28mlist\u001b[39m(key)\n",
      "\u001b[0;32m-> 6130\u001b[0m     \u001b[38;5;28;01mraise\u001b[39;00m \u001b[38;5;167;01mKeyError\u001b[39;00m(\u001b[38;5;124mf\u001b[39m\u001b[38;5;124m\"\u001b[39m\u001b[38;5;124mNone of [\u001b[39m\u001b[38;5;132;01m{\u001b[39;00mkey\u001b[38;5;132;01m}\u001b[39;00m\u001b[38;5;124m] are in the [\u001b[39m\u001b[38;5;132;01m{\u001b[39;00maxis_name\u001b[38;5;132;01m}\u001b[39;00m\u001b[38;5;124m]\u001b[39m\u001b[38;5;124m\"\u001b[39m)\n",
      "\u001b[1;32m   6132\u001b[0m not_found \u001b[38;5;241m=\u001b[39m \u001b[38;5;28mlist\u001b[39m(ensure_index(key)[missing_mask\u001b[38;5;241m.\u001b[39mnonzero()[\u001b[38;5;241m0\u001b[39m]]\u001b[38;5;241m.\u001b[39munique())\n",
      "\u001b[1;32m   6133\u001b[0m \u001b[38;5;28;01mraise\u001b[39;00m \u001b[38;5;167;01mKeyError\u001b[39;00m(\u001b[38;5;124mf\u001b[39m\u001b[38;5;124m\"\u001b[39m\u001b[38;5;132;01m{\u001b[39;00mnot_found\u001b[38;5;132;01m}\u001b[39;00m\u001b[38;5;124m not in index\u001b[39m\u001b[38;5;124m\"\u001b[39m)\n",
      "\n",
      "\u001b[0;31mKeyError\u001b[0m: \"None of [Index(['UBERON:0009663'], dtype='object', name='id')] are in the [index]\""
     ]
    }
   ],
   "source": [
    "i=0\n",
    "name = \"cerebral nuclei\"\n",
    "while i == 0:\n",
    "    print(name)\n",
    "    ids = parentdf[parentdf.name==name].parents__ontology_id\n",
    "    name = [df.loc[d].name for d in ids]"
   ]
  },
  {
   "cell_type": "code",
   "execution_count": null,
   "metadata": {},
   "outputs": [],
   "source": [
    "groupings, _, lclass = get_ancestry_mapping(cats, parentdf)"
   ]
  },
  {
   "cell_type": "code",
   "execution_count": null,
   "metadata": {},
   "outputs": [],
   "source": [
    "['spinal cord', 'vermiform appendix', 'kidney', 'blood', 'caudal ganglionic eminence', 'skin of body', 'mesenteric lymph node', 'hippocampal formation', 'heart', 'uterine cervix', 'coronal suture', 'eye', 'meningeal dura mater', 'descending colon', 'fovea centralis', 'temporal lobe', 'unknown', 'ascending colon', 'jejunum', 'thyroid gland', 'lamina propria', 'mesonephros', 'venous blood', 'jejunal epithelium', 'cerebral cortex', 'chorionic villus', 'primary motor cortex', 'lung', 'muscle organ', 'thalamic complex', 'cortex of kidney', 'peripheral region of retina', 'bronchopulmonary lymph node', 'thymus', 'lung parenchyma', 'skeletal muscle tissue', 'prostate gland', 'brain meninx', 'esophagus', 'dura mater', 'ileal epithelium', 'ureter', 'fallopian tube', 'spleen', 'breast', 'entorhinal cortex', 'liver', 'primary visual cortex', 'adipose tissue', 'gonad', 'stomach', 'rib', 'caecum', 'pancreas', 'anterior cingulate cortex', 'bladder organ', 'retina', 'small intestine', 'vault of skull', 'duodenum', 'heart left ventricle', 'artery', 'adrenal gland', 'alveolus of lung', 'bone marrow', 'uterus', 'peripheral lymph node', 'renal medulla', 'intestine', 'myelencephalon', 'islet of Langerhans', 'gallbladder', 'lamina propria of small intestine', 'brain', 'zone of skin', 'trachea', 'respiratory airway', 'renal papilla', 'orbitofrontal cortex', 'hypothalamus', 'sigmoid colon', 'placenta', 'ileum', 'medial ganglionic eminence', 'umbilical cord blood', 'ovary', 'pleura', 'transverse colon', 'subdural space', 'rectum', 'lower lobe of left lung', 'cerebellum', 'thoracic lymph node', 'cerebral nuclei', 'parietal lobe', 'omentum', 'testis']\n"
   ]
  }
 ],
 "metadata": {
  "kernelspec": {
   "display_name": "scprint",
   "language": "python",
   "name": "python3"
  },
  "language_info": {
   "name": "python",
   "version": "3.10.15"
  }
 },
 "nbformat": 4,
 "nbformat_minor": 2
}
